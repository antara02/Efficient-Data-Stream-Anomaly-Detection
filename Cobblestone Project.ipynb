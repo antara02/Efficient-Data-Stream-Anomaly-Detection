{
 "cells": [
  {
   "cell_type": "code",
   "execution_count": 1,
   "id": "360f0d5b",
   "metadata": {
    "scrolled": true
   },
   "outputs": [
    {
     "name": "stderr",
     "output_type": "stream",
     "text": [
      "C:\\Users\\ANTARA\\anaconda3\\lib\\site-packages\\scipy\\__init__.py:146: UserWarning: A NumPy version >=1.16.5 and <1.23.0 is required for this version of SciPy (detected version 1.26.4\n",
      "  warnings.warn(f\"A NumPy version >={np_minversion} and <{np_maxversion}\"\n"
     ]
    }
   ],
   "source": [
    "#importing necessary libraries\n",
    "import numpy as np\n",
    "import scipy.signal as signal\n",
    "import matplotlib.pyplot as plt\n",
    "import rrcf"
   ]
  },
  {
   "cell_type": "markdown",
   "id": "64c2c15c",
   "metadata": {},
   "source": [
    "<!-- # This script simulates a continuous data stream and introduces anomalies for anomaly detection testing.\n",
    "# The data stream consists of three components: \n",
    "# - A linear baseline trend\n",
    "# - A seasonal pattern modeled with a triangular wave\n",
    "# - Random noise to mimic real-world variability\n",
    "\n",
    "# Additionally, predefined anomalies are introduced into specific points of the data stream to simulate outliers.\n",
    "# This code can be used for testing and evaluating anomaly detection algorithms.\n",
    "\n",
    "# Functions:\n",
    "# 1. generate_data_stream(): Generates the synthetic data stream with a combination of baseline, seasonality, and noise.\n",
    "# 2. add_anomalies_to_data(): Modifies the generated data stream by injecting anomalies at specific indices. -->"
   ]
  },
  {
   "cell_type": "markdown",
   "id": "bececd4f",
   "metadata": {},
   "source": [
    "#### Data Stream Simulation: \n",
    "This script simulates a synthetic data sequence and introduces random anomalies for anomaly detection testing.\n",
    "The data sequence is composed of three main components:\n",
    "1. A linear trend representing a regular increase in value over time.\n",
    "2. A seasonal pattern modeled using a triangular wave to simulate periodic fluctuations.\n",
    "3. Random noise added to the sequence to mimic real-world variations.\n",
    "\n",
    "Additionally, the script provides functionality to inject random anomalies (both spikes and drops) into the sequence.\n",
    "These anomalies can represent unexpected changes in the data, useful for testing anomaly detection algorithms.\n",
    "\n",
    "Functions:\n",
    "1. #### create_data_sequence(): \n",
    "Generates the data sequence by combining a linear trend, seasonal component, and random noise.\n",
    "2. #### insert_anomalies(): \n",
    "Randomly inserts anomalies into the data sequence, either as sudden spikes or drops."
   ]
  },
  {
   "cell_type": "code",
   "execution_count": 2,
   "id": "afb0c392",
   "metadata": {},
   "outputs": [],
   "source": [
    "# Function to create a data stream with a linear trend, seasonality, and random noise\n",
    "def create_data_sequence(sequence_length):\n",
    "    try:\n",
    "        # Validating if sequence_length is a positive integer\n",
    "        if not isinstance(sequence_length, int) or sequence_length <= 0:\n",
    "            raise ValueError(\"Sequence length must be a positive integer.\")\n",
    "\n",
    "        # Number of data points (sequence length)\n",
    "        num_data_points = sequence_length\n",
    "        # Creating a linear trend\n",
    "        linear_trend = np.linspace(50, 150, num_data_points)\n",
    "        \n",
    "        # Adding seasonality using a triangular wave pattern\n",
    "        cycle_period = 100  # Length of the cycle for seasonality\n",
    "        seasonal_component = 20 * signal.sawtooth(2 * np.pi * np.arange(num_data_points) / cycle_period, 0.5)\n",
    "\n",
    "        # Adding random noise\n",
    "        noise_component = np.random.normal(0, 5, num_data_points)\n",
    "\n",
    "        # Combine the trend, seasonality, and noise to form the final data sequence\n",
    "        data_sequence = linear_trend + seasonal_component + noise_component\n",
    "        \n",
    "        return data_sequence\n",
    "\n",
    "    except ValueError as e:\n",
    "        print(f\"Error in create_data_sequence: {e}\")\n",
    "\n",
    "\n",
    "# Function to insert anomalies into the data sequence\n",
    "def insert_anomalies(data_sequence, num_anomalies=10):\n",
    "    try:\n",
    "        # Ensure the input is a NumPy array\n",
    "        if not isinstance(data_sequence, np.ndarray):\n",
    "            raise TypeError(\"Data sequence must be a NumPy array.\")\n",
    "\n",
    "        # Randomly select indices where anomalies will be introduced\n",
    "        anomaly_positions = np.random.choice(len(data_sequence), size=num_anomalies, replace=False)\n",
    "        \n",
    "        # Insert anomalies: either a large spike or a sharp drop\n",
    "        for pos in anomaly_positions:\n",
    "            if np.random.rand() > 0.5:\n",
    "                data_sequence[pos] += np.random.uniform(50, 100)  # spike\n",
    "            else:\n",
    "                data_sequence[pos] -= np.random.uniform(50, 100)  # drop\n",
    "\n",
    "        return data_sequence\n",
    "\n",
    "    except TypeError as e:\n",
    "        print(f\"Error in insert_anomalies: {e}\")"
   ]
  },
  {
   "cell_type": "markdown",
   "id": "7db17941",
   "metadata": {},
   "source": [
    "#### Algorithm Selection\n",
    "The following script implements a Random Cut Forest (RCF) for detecting anomalies in a data stream.\n",
    "The RCF is composed of multiple Random Cut Trees (RCT), which are used to identify unusual patterns or outliers in a data sequence.\n",
    "\n",
    "Key Features:\n",
    "1. **Random Cut Forest (RCF) Construction**: The `RandomCutForest` class creates and manages a forest of RCTrees. The number of trees, tree capacity, and shingle length (window size) are defined by the user.\n",
    "2. **Anomaly Detection**: The `detect_anomaly` method calculates the average displacement (codisplacement) for a given data point across all trees. Points with high displacement values are likely to be anomalies.\n",
    "3. **Tree Management**: The trees have a maximum capacity, and the oldest points are forgotten once the capacity is exceeded, ensuring that the forest adapts to new data in a streaming environment.\n",
    "\n",
    "This approach is efficient for detecting anomalies in real-time data streams and can handle both concept drift and evolving data patterns.\n",
    "\n"
   ]
  },
  {
   "cell_type": "code",
   "execution_count": 3,
   "id": "decc9d12",
   "metadata": {},
   "outputs": [],
   "source": [
    "\n",
    "# Class to build and manage a Random Cut Tree (RCT) forest for anomaly detection\n",
    "class RandomCutForest:\n",
    "    def __init__(self, num_trees, tree_capacity, shingle_length):\n",
    "        try:\n",
    "            # Validate that all input parameters are positive integers\n",
    "            if not all(isinstance(param, int) and param > 0 for param in [num_trees, tree_capacity, shingle_length]):\n",
    "                raise ValueError(\"All parameters must be positive integers.\")\n",
    "\n",
    "            # Initialize the Random Cut Forest with a specified number of trees and tree capacity\n",
    "            self.num_trees = num_trees\n",
    "            self.tree_capacity = tree_capacity\n",
    "            self.shingle_length = shingle_length\n",
    "\n",
    "            # Create a list of RCTree instances to form the forest\n",
    "            self.forest = [rrcf.RCTree() for _ in range(num_trees)]\n",
    "\n",
    "        except ValueError as e:\n",
    "            print(f\"Error in initialization: {e}\")\n",
    "\n",
    "    # Method to detect anomalies based on a new data point\n",
    "    def detect_anomaly(self, sequence_index, data_point):\n",
    "        try:\n",
    "            # Validate that sequence_index is a non-negative integer\n",
    "            if not isinstance(sequence_index, int) or sequence_index < 0:\n",
    "                raise ValueError(\"Sequence index must be a non-negative integer.\")\n",
    "\n",
    "            # Validate that data_point is a list of numeric values with the correct length\n",
    "            if not isinstance(data_point, list) or len(data_point) != self.shingle_length or not all(isinstance(val, (int, float)) for val in data_point):\n",
    "                raise ValueError(f\"Data point must be a list of {self.shingle_length} numeric values.\")\n",
    "\n",
    "            # Initialize the average displacement to zero\n",
    "            avg_displacement = 0\n",
    "\n",
    "            for tree in self.forest:\n",
    "                # If the tree size exceeds its capacity, forget the oldest data point (FIFO)\n",
    "                if len(tree.leaves) > self.tree_capacity:\n",
    "                    tree.forget_point(sequence_index - self.tree_capacity)\n",
    "\n",
    "                # Insert the new data point into the tree\n",
    "                tree.insert_point(data_point, index=sequence_index)\n",
    "\n",
    "                # Calculate the displacement for the new point\n",
    "                point_displacement = tree.codisp(sequence_index)\n",
    "\n",
    "                # Accumulate the displacement across all trees\n",
    "                avg_displacement += point_displacement / self.num_trees\n",
    "\n",
    "            # Return the average displacement for the given data point\n",
    "            return avg_displacement\n",
    "\n",
    "        except ValueError as e:\n",
    "            print(f\"Error in anomaly detection: {e}\")\n"
   ]
  },
  {
   "cell_type": "markdown",
   "id": "cd6d3079",
   "metadata": {},
   "source": [
    "#### Data Visualization\n",
    "This code snippet generates a synthetic data sequence using a sinusoidal pattern, \n",
    "introduces anomalies to simulate real-world irregularities, and visualizes the \n",
    "resulting data sequence using Matplotlib.\n",
    "\n",
    "Key Steps:\n",
    "1. **Data Sequence Generation**: The `create_data_sequence` function generates a data sequence \n",
    "   of specified length (1000) with a sinusoidal pattern, a linear trend, and added noise.\n",
    "2. **Anomaly Introduction**: The `insert_anomalies` function randomly adds anomalies \n",
    "   to the data sequence to mimic unexpected changes, such as spikes or drops.\n",
    "3. **Data Visualization**: The resulting data sequence, including the introduced anomalies, \n",
    "   is plotted using Matplotlib for visual analysis.\n",
    "\n",
    "This visualization helps in understanding the characteristics of the data sequence \n",
    "and the impact of anomalies on the overall data pattern.\n",
    "\"\"\"\n"
   ]
  },
  {
   "cell_type": "code",
   "execution_count": 4,
   "id": "46ca7f1b",
   "metadata": {},
   "outputs": [
    {
     "data": {
      "image/png": "[encoded data removed]",
      "text/plain": [
       "<Figure size 432x288 with 1 Axes>"
      ]
     },
     "metadata": {
      "needs_background": "light"
     },
     "output_type": "display_data"
    }
   ],
   "source": [
    "# Generates a data sequence with a sinusoidal pattern of length 1000\n",
    "data_sequence = create_data_sequence(1000)\n",
    "\n",
    "# Introduces anomalies to the generated data sequence\n",
    "insert_anomalies(data_sequence)\n",
    "\n",
    "# Plots the data sequence using Matplotlib\n",
    "plt.plot(np.arange(1000), data_sequence)\n",
    "\n",
    "plt.show()\n"
   ]
  },
  {
   "cell_type": "markdown",
   "id": "3c8c25c5",
   "metadata": {},
   "source": [
    "#### Model Implementation\n",
    "This code snippet initializes a Random Cut Forest (RCF) for anomaly detection in a data stream.\n",
    "\n",
    "Key Steps:\n",
    "1. **Tree Configuration**: \n",
    "   - The number of trees in the forest is set to 40 (`num_trees`).\n",
    "   - The capacity limit for each tree, determining how many data points each tree can hold, is set to 256 (`tree_capacity`).\n",
    "   - The size of the shingle (or window) used for data point insertion is defined as 4 (`shingle_length`).\n",
    "\n",
    "2. **Forest Initialization**: \n",
    "   - An instance of the `RandomCutForest` class is created using the specified parameters. \n",
    "   - This forest will be used to detect anomalies in streaming data by managing multiple Random Cut Trees.\n",
    "\n",
    "This setup is essential for preparing the anomaly detection system to analyze incoming data and identify unusual patterns effectively.\n",
    "\n"
   ]
  },
  {
   "cell_type": "code",
   "execution_count": 11,
   "id": "4dbd84f9",
   "metadata": {},
   "outputs": [],
   "source": [
    "# Define the number of trees in the Random Cut Forest (RCF)\n",
    "num_trees = 40\n",
    "\n",
    "# Define the size limit for each tree in the Random Cut Forest\n",
    "tree_capacity = 256\n",
    "\n",
    "# Define the size of the shingle (window)\n",
    "shingle_length = 4\n",
    "\n",
    "# Create an instance of the RandomCutForest class with the specified number of trees and tree capacity\n",
    "forest = RandomCutForest(num_trees, tree_capacity, shingle_length)"
   ]
  },
  {
   "cell_type": "markdown",
   "id": "081c81cf",
   "metadata": {},
   "source": [
    "#### Anomaly Detection\n",
    "This code snippet processes a data sequence to detect anomalies using the previously initialized \n",
    "Random Cut Forest (RCF). It utilizes a sliding window approach to evaluate data points in the sequence.\n",
    "\n",
    "Key Steps:\n",
    "1. **Initialization**: \n",
    "   - Empty lists are created to store the calculated anomaly scores (`anomaly_scores`) and maintain the current data window (`current_data_window`).\n",
    "   - Additional variables (`previous_index` and `is_first_window`) are initialized for tracking purposes.\n",
    "\n",
    "2. **Sliding Window Processing**: \n",
    "   - The code iterates through the data sequence, populating the initial window with data values for the first few indices.\n",
    "   - Once the window is fully populated, it slides through the sequence, updating the current window with the latest data point while removing the oldest point.\n",
    "\n",
    "3. **Anomaly Score Calculation**: \n",
    "   - For each updated window, the `detect_anomaly` method of the Random Cut Forest is called to calculate an anomaly score.\n",
    "   - This score is appended to the list of anomaly scores.\n",
    "\n",
    "4. **Anomaly Detection Logic**: \n",
    "   - A threshold is applied to identify sudden peaks in the anomaly score, indicating potential anomalies in the data stream.\n",
    "   - If an anomaly is detected based on the defined criteri\n"
   ]
  },
  {
   "cell_type": "code",
   "execution_count": 12,
   "id": "569adce9",
   "metadata": {},
   "outputs": [
    {
     "name": "stdout",
     "output_type": "stream",
     "text": [
      "Anomaly Detected at index_no:  43\n",
      "Anomaly Detected at index_no:  61\n",
      "Anomaly Detected at index_no:  67\n",
      "Anomaly Detected at index_no:  106\n",
      "Anomaly Detected at index_no:  144\n",
      "Anomaly Detected at index_no:  184\n",
      "Anomaly Detected at index_no:  231\n",
      "Anomaly Detected at index_no:  237\n",
      "Anomaly Detected at index_no:  278\n",
      "Anomaly Detected at index_no:  281\n",
      "Anomaly Detected at index_no:  287\n",
      "Anomaly Detected at index_no:  305\n",
      "Anomaly Detected at index_no:  318\n",
      "Anomaly Detected at index_no:  319\n",
      "Anomaly Detected at index_no:  324\n",
      "Anomaly Detected at index_no:  341\n",
      "Anomaly Detected at index_no:  374\n",
      "Anomaly Detected at index_no:  439\n",
      "Anomaly Detected at index_no:  465\n",
      "Anomaly Detected at index_no:  473\n",
      "Anomaly Detected at index_no:  482\n",
      "Anomaly Detected at index_no:  489\n",
      "Anomaly Detected at index_no:  547\n",
      "Anomaly Detected at index_no:  570\n",
      "Anomaly Detected at index_no:  589\n",
      "Anomaly Detected at index_no:  631\n",
      "Anomaly Detected at index_no:  654\n",
      "Anomaly Detected at index_no:  660\n",
      "Anomaly Detected at index_no:  680\n",
      "Anomaly Detected at index_no:  682\n",
      "Anomaly Detected at index_no:  704\n",
      "Anomaly Detected at index_no:  738\n",
      "Anomaly Detected at index_no:  764\n",
      "Anomaly Detected at index_no:  842\n",
      "Anomaly Detected at index_no:  852\n",
      "Anomaly Detected at index_no:  874\n",
      "Anomaly Detected at index_no:  887\n",
      "Anomaly Detected at index_no:  895\n",
      "Anomaly Detected at index_no:  901\n",
      "Anomaly Detected at index_no:  925\n",
      "Anomaly Detected at index_no:  937\n",
      "Anomaly Detected at index_no:  977\n"
     ]
    }
   ],
   "source": [
    "# Initialize empty lists to store anomaly scores and the current data window\n",
    "anomaly_scores = []\n",
    "current_data_window = []\n",
    "previous_index = 0\n",
    "is_first_window = True\n",
    "\n",
    "# Iterate through the data sequence\n",
    "for current_index in range(len(data_sequence)):\n",
    "    # If the index is within the shingle size, populate the initial window with data_sequence values\n",
    "    if current_index < forest.shingle_length:\n",
    "        current_data_window.append(data_sequence[current_index])\n",
    "        # Initialize anomaly score to 0 for the initial window\n",
    "        anomaly_scores.append(0)\n",
    "        continue\n",
    "    else:\n",
    "        # Update the current data window by adding the latest data_sequence value and removing the oldest\n",
    "        current_data_window.append(data_sequence[current_index])\n",
    "        current_data_window = current_data_window[1:]\n",
    "\n",
    "    # Calculate anomaly score using the Random Cut Forest for the current window\n",
    "    score = forest.detect_anomaly(current_index, current_data_window)\n",
    "\n",
    "    # Append the calculated anomaly score to the list\n",
    "    anomaly_scores.append(score)\n",
    "\n",
    "    # If there is a sudden peak, we can say it is an anomaly\n",
    "    if current_index > forest.shingle_length + 1 and (score >= 2 * anomaly_scores[current_index - 1] or score <= -1.7 * anomaly_scores[current_index - 1]): \n",
    "        print(\"Anomaly Detected at index_no: \", current_index)\n"
   ]
  },
  {
   "cell_type": "markdown",
   "id": "a51f0b8b",
   "metadata": {},
   "source": [
    "#### Data Visualisation after Anomaly Detection\n",
    "This code snippet visualizes the original data sequence and the corresponding anomaly scores using Matplotlib.\n",
    "\n",
    "Key Steps:\n",
    "1. **Data Visualization**: \n",
    "   - The original data sequence (`data_sequence`) is plotted as a line graph, labeled 'Data Sequence'.\n",
    "   - The calculated anomaly scores (`anomaly_scores`) are plotted on the same graph in red, labeled 'Anomaly Score'.\n",
    "\n",
    "2. **Plot Display**: \n",
    "   - The final plot is displayed, allowing for visual analysis of the data and any anomalies identified throughout the sequence.\n",
    "\n",
    "This visualization is essential for understanding the behavior of the data stream and the effectiveness of the anomaly detection mechanism.\n",
    "\"\"\"\n"
   ]
  },
  {
   "cell_type": "code",
   "execution_count": 15,
   "id": "154dc742",
   "metadata": {
    "scrolled": false
   },
   "outputs": [
    {
     "data": {
      "image/png": "[encoded data removed]",
      "text/plain": [
       "<Figure size 720x432 with 1 Axes>"
      ]
     },
     "metadata": {
      "needs_background": "light"
     },
     "output_type": "display_data"
    }
   ],
   "source": [
    "plt.figure(figsize=(10, 6))\n",
    "\n",
    "# Plot the original data sequence using Matplotlib\n",
    "plt.plot(np.arange(1000), data_sequence, label='Data Sequence')\n",
    "\n",
    "# Plot the calculated anomaly scores using Matplotlib\n",
    "plt.plot(np.arange(1000), anomaly_scores, label='Anomaly Score', color='red')\n",
    "\n",
    "plt.legend(loc='upper right')\n",
    "plt.show()\n"
   ]
  },
  {
   "cell_type": "markdown",
   "id": "442152e7",
   "metadata": {},
   "source": [
    "#### Why Robust Random Cut Forest Algorithm has been Used?\n",
    "\n",
    "1. **Robustness to Concept Drift**: RRCF is designed to be robust in the presence of concept drift, which refers to changes in the underlying data distribution over time. The randomization and ensemble nature of the algorithm enable it to adapt to shifting patterns in the data.  \n",
    "\n",
    "2. **Adaptibility to Seasonal Variation**:  The algorithm's ability to construct a forest of trees allows it to adapt to different patterns, including those associated with regular cycles or trends.  "
   ]
  },
  {
   "cell_type": "code",
   "execution_count": null,
   "id": "8f88a0a4",
   "metadata": {},
   "outputs": [],
   "source": []
  }
 ],
 "metadata": {
  "kernelspec": {
   "display_name": "Python 3 (ipykernel)",
   "language": "python",
   "name": "python3"
  },
  "language_info": {
   "codemirror_mode": {
    "name": "ipython",
    "version": 3
   },
   "file_extension": ".py",
   "mimetype": "text/x-python",
   "name": "python",
   "nbconvert_exporter": "python",
   "pygments_lexer": "ipython3",
   "version": "3.9.12"
  }
 },
 "nbformat": 4,
 "nbformat_minor": 5
}
